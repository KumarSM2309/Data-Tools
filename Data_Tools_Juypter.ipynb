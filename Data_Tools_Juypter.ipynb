{
    "cells": [
        {
            "cell_type": "markdown",
            "metadata": {
                "collapsed": true
            },
            "source": "# MY JUYPTER NOTEBOOK"
        },
        {
            "cell_type": "markdown",
            "metadata": {},
            "source": "<b> Kumar Swamy</b>"
        },
        {
            "cell_type": "markdown",
            "metadata": {},
            "source": "A Pet Lover"
        },
        {
            "cell_type": "markdown",
            "metadata": {},
            "source": "<i>I am interested in data science is because it is the future of the world's leadings technologies</i>"
        },
        {
            "cell_type": "markdown",
            "metadata": {},
            "source": "#### Addition of two numbers"
        },
        {
            "cell_type": "code",
            "execution_count": 3,
            "metadata": {},
            "outputs": [
                {
                    "data": {
                        "text/plain": "50"
                    },
                    "execution_count": 3,
                    "metadata": {},
                    "output_type": "execute_result"
                }
            ],
            "source": "a=20\nb=30\na+b"
        },
        {
            "cell_type": "markdown",
            "metadata": {},
            "source": "<ol>\n    <li>iPhone</li>\n    <li>Samsung</li>\n    <li>Vivo</li>\n    <li>Nokia</li>\n</ol>"
        },
        {
            "cell_type": "markdown",
            "metadata": {},
            "source": " - eggs\n - water\n - milk"
        },
        {
            "cell_type": "markdown",
            "metadata": {},
            "source": "\n\n[giraffe]:http://upload.wikimedia.org/wikipedia/commons/thumb/b/b7/South_African_Giraffe,_head.jpg/877px-South_African_Giraffe,_head.jpg \"Picture of a Giraffe\""
        },
        {
            "cell_type": "markdown",
            "metadata": {},
            "source": "![][giraffe]\n\n[giraffe]:http://upload.wikimedia.org/wikipedia/commons/thumb/b/b7/South_African_Giraffe,_head.jpg/877px-South_African_Giraffe,_head.jpg \"Picture of a Giraffe\""
        },
        {
            "cell_type": "markdown",
            "metadata": {},
            "source": "http://en.wikipedia.org"
        },
        {
            "cell_type": "markdown",
            "metadata": {},
            "source": "| Name | Age | Sex |\n| --- | --- | --- |\n| Kumar | 20 | Male |\n| Liki | 19 | Female |"
        },
        {
            "cell_type": "code",
            "execution_count": null,
            "metadata": {},
            "outputs": [],
            "source": ""
        }
    ],
    "metadata": {
        "kernelspec": {
            "display_name": "Python 3.6",
            "language": "python",
            "name": "python3"
        },
        "language_info": {
            "codemirror_mode": {
                "name": "ipython",
                "version": 3
            },
            "file_extension": ".py",
            "mimetype": "text/x-python",
            "name": "python",
            "nbconvert_exporter": "python",
            "pygments_lexer": "ipython3",
            "version": "3.6.9"
        }
    },
    "nbformat": 4,
    "nbformat_minor": 1
}